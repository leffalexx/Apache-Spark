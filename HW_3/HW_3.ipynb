{
  "nbformat": 4,
  "nbformat_minor": 0,
  "metadata": {
    "colab": {
      "provenance": []
    },
    "kernelspec": {
      "name": "python3",
      "display_name": "Python 3"
    },
    "language_info": {
      "name": "python"
    }
  },
  "cells": [
    {
      "cell_type": "code",
      "execution_count": 1,
      "metadata": {
        "id": "6alFA6rlNb_p"
      },
      "outputs": [],
      "source": [
        "!pip install pyspark >> None"
      ]
    },
    {
      "cell_type": "code",
      "source": [
        "from pyspark.sql import SparkSession\n",
        "from pyspark.sql.window import Window\n",
        "import pyspark.sql.functions as F\n",
        "from pyspark.sql.functions import avg, col"
      ],
      "metadata": {
        "id": "lYC5MEM2PGtZ"
      },
      "execution_count": 16,
      "outputs": []
    },
    {
      "cell_type": "code",
      "source": [
        "spark = SparkSession.builder.appName(\"TestDataFrame\").getOrCreate()"
      ],
      "metadata": {
        "id": "DK5qAdFJPYC0"
      },
      "execution_count": 4,
      "outputs": []
    },
    {
      "cell_type": "code",
      "source": [
        "data = [(\"2023-11-20\", \"Electronics\", 100, 12000),\n",
        "         (\"2023-11-21\", \"Electronics\", 110, 13000),\n",
        "         (\"2023-11-22\", \"Electronics\", 105, 12500),\n",
        "         (\"2023-11-20\", \"Clothing\", 300, 15000),\n",
        "         (\"2023-11-21\", \"Clothing\", 280, 14000),\n",
        "         (\"2023-11-22\", \"Clothing\", 320, 16000),\n",
        "         (\"2023-11-20\", \"Books\", 150, 9000),\n",
        "         (\"2023-11-21\", \"Books\", 200, 12000),\n",
        "         (\"2023-11-22\", \"Books\", 180, 10000)]"
      ],
      "metadata": {
        "id": "ZeQ_ctTtPm4Y"
      },
      "execution_count": 5,
      "outputs": []
    },
    {
      "cell_type": "code",
      "source": [
        "columns = [\"date\", \"category\", \"quantity\", \"revenue\"]\n",
        "df = spark.createDataFrame(data, columns)"
      ],
      "metadata": {
        "id": "IStEm3KmPqN6"
      },
      "execution_count": 6,
      "outputs": []
    },
    {
      "cell_type": "code",
      "source": [
        "df.show()"
      ],
      "metadata": {
        "colab": {
          "base_uri": "https://localhost:8080/"
        },
        "id": "XqDQouALPwGA",
        "outputId": "c3709623-7efa-466f-c98f-a2f81e92c5c1"
      },
      "execution_count": 7,
      "outputs": [
        {
          "output_type": "stream",
          "name": "stdout",
          "text": [
            "+----------+-----------+--------+-------+\n",
            "|      date|   category|quantity|revenue|\n",
            "+----------+-----------+--------+-------+\n",
            "|2023-11-20|Electronics|     100|  12000|\n",
            "|2023-11-21|Electronics|     110|  13000|\n",
            "|2023-11-22|Electronics|     105|  12500|\n",
            "|2023-11-20|   Clothing|     300|  15000|\n",
            "|2023-11-21|   Clothing|     280|  14000|\n",
            "|2023-11-22|   Clothing|     320|  16000|\n",
            "|2023-11-20|      Books|     150|   9000|\n",
            "|2023-11-21|      Books|     200|  12000|\n",
            "|2023-11-22|      Books|     180|  10000|\n",
            "+----------+-----------+--------+-------+\n",
            "\n"
          ]
        }
      ]
    },
    {
      "cell_type": "code",
      "source": [
        "window = Window.partitionBy(\"category\")"
      ],
      "metadata": {
        "id": "aasTMxyHQurL"
      },
      "execution_count": 9,
      "outputs": []
    },
    {
      "cell_type": "code",
      "source": [
        "avg_revenue = df.withColumn(\"avg_revenue\", F.avg(\"revenue\").over(window))"
      ],
      "metadata": {
        "id": "NXTnS5uXQ48U"
      },
      "execution_count": 10,
      "outputs": []
    },
    {
      "cell_type": "code",
      "source": [
        "avg_revenue.select(\"category\", \"revenue\", \"avg_revenue\").show()"
      ],
      "metadata": {
        "colab": {
          "base_uri": "https://localhost:8080/"
        },
        "id": "mysXSeNpQ8JM",
        "outputId": "080f5fc9-781b-41e5-ea3b-aea2a31de663"
      },
      "execution_count": 11,
      "outputs": [
        {
          "output_type": "stream",
          "name": "stdout",
          "text": [
            "+-----------+-------+------------------+\n",
            "|   category|revenue|       avg_revenue|\n",
            "+-----------+-------+------------------+\n",
            "|      Books|   9000|10333.333333333334|\n",
            "|      Books|  12000|10333.333333333334|\n",
            "|      Books|  10000|10333.333333333334|\n",
            "|   Clothing|  15000|           15000.0|\n",
            "|   Clothing|  14000|           15000.0|\n",
            "|   Clothing|  16000|           15000.0|\n",
            "|Electronics|  12000|           12500.0|\n",
            "|Electronics|  13000|           12500.0|\n",
            "|Electronics|  12500|           12500.0|\n",
            "+-----------+-------+------------------+\n",
            "\n"
          ]
        }
      ]
    },
    {
      "cell_type": "code",
      "source": [
        "avg_revenue_by_date = df.withColumn(\"avg_revenue\", avg(col(\"revenue\")).over(window))"
      ],
      "metadata": {
        "id": "XSE4xObhcu9-"
      },
      "execution_count": 19,
      "outputs": []
    },
    {
      "cell_type": "code",
      "source": [
        "pivoted_df = avg_revenue_by_date.groupBy(\"category\").pivot(\"date\").agg(F.first(\"avg_revenue\"))"
      ],
      "metadata": {
        "id": "0Krw0iRMc8UV"
      },
      "execution_count": 20,
      "outputs": []
    },
    {
      "cell_type": "code",
      "source": [
        "pivoted_df.show()"
      ],
      "metadata": {
        "colab": {
          "base_uri": "https://localhost:8080/"
        },
        "id": "viIs540wetX6",
        "outputId": "f577041f-c13e-4ed9-c741-16b23b04cbc1"
      },
      "execution_count": 21,
      "outputs": [
        {
          "output_type": "stream",
          "name": "stdout",
          "text": [
            "+-----------+------------------+------------------+------------------+\n",
            "|   category|        2023-11-20|        2023-11-21|        2023-11-22|\n",
            "+-----------+------------------+------------------+------------------+\n",
            "|      Books|10333.333333333334|10333.333333333334|10333.333333333334|\n",
            "|   Clothing|           15000.0|           15000.0|           15000.0|\n",
            "|Electronics|           12500.0|           12500.0|           12500.0|\n",
            "+-----------+------------------+------------------+------------------+\n",
            "\n"
          ]
        }
      ]
    }
  ]
}