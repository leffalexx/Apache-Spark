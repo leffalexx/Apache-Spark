{
  "nbformat": 4,
  "nbformat_minor": 0,
  "metadata": {
    "colab": {
      "provenance": []
    },
    "kernelspec": {
      "name": "python3",
      "display_name": "Python 3"
    },
    "language_info": {
      "name": "python"
    }
  },
  "cells": [
    {
      "cell_type": "code",
      "execution_count": 1,
      "metadata": {
        "id": "pNVkxRYtMdVt"
      },
      "outputs": [],
      "source": [
        "!pip install pyspark >> None"
      ]
    },
    {
      "cell_type": "code",
      "source": [
        "from pyspark.sql import SparkSession\n",
        "from pyspark.sql.functions import col, when, isnull"
      ],
      "metadata": {
        "id": "vaFPPne7Mngc"
      },
      "execution_count": 5,
      "outputs": []
    },
    {
      "cell_type": "code",
      "source": [
        "spark = SparkSession.builder.appName(\"EmployeeSalary\").getOrCreate()"
      ],
      "metadata": {
        "id": "wx8YMz1xObpy"
      },
      "execution_count": 6,
      "outputs": []
    },
    {
      "cell_type": "code",
      "source": [
        "data = [\n",
        "    (1, \"Joe\", 70, 3),\n",
        "    (2, \"Henry\", 80, 4),\n",
        "    (3, \"Sam\", 60, None),\n",
        "    (4, \"Max\", 90, None)\n",
        "]\n",
        "columns = [\"id\", \"name\", \"salary\", \"managerId\"]\n",
        "df = spark.createDataFrame(data, columns)"
      ],
      "metadata": {
        "id": "NpKc_ZWIRxum"
      },
      "execution_count": 7,
      "outputs": []
    },
    {
      "cell_type": "code",
      "source": [
        "manager_df = df.alias(\"m\").join(\n",
        "    df.alias(\"e\"),\n",
        "    col(\"m.id\") == col(\"e.managerId\"),\n",
        "    \"left\"\n",
        ").select(\n",
        "    \"e.name\", \"e.salary\", \"m.name\", \"m.salary\"\n",
        ").filter(\n",
        "    (col(\"e.salary\") > col(\"m.salary\")) | col(\"m.salary\").isNull()\n",
        ")\n"
      ],
      "metadata": {
        "id": "GojgPUmkR5iA"
      },
      "execution_count": 8,
      "outputs": []
    },
    {
      "cell_type": "code",
      "source": [
        "manager_df.show()"
      ],
      "metadata": {
        "colab": {
          "base_uri": "https://localhost:8080/"
        },
        "id": "CcN8A8BqR9Yo",
        "outputId": "f2835786-6cc1-4554-aeee-7adbd1ea076f"
      },
      "execution_count": 9,
      "outputs": [
        {
          "output_type": "stream",
          "name": "stdout",
          "text": [
            "+----+------+----+------+\n",
            "|name|salary|name|salary|\n",
            "+----+------+----+------+\n",
            "| Joe|    70| Sam|    60|\n",
            "+----+------+----+------+\n",
            "\n"
          ]
        }
      ]
    }
  ]
}