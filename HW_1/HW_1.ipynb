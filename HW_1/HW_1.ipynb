{
  "cells": [
    {
      "cell_type": "code",
      "execution_count": 2,
      "metadata": {
        "id": "e2VutfpqwBdb"
      },
      "outputs": [],
      "source": [
        "!pip install pyspark >> None"
      ]
    },
    {
      "cell_type": "code",
      "execution_count": 3,
      "metadata": {
        "id": "bGV-V0CwwPN0"
      },
      "outputs": [],
      "source": [
        "import pyspark\n",
        "from pyspark import SparkContext\n",
        "from pyspark.sql import SparkSession"
      ]
    },
    {
      "cell_type": "code",
      "execution_count": 17,
      "metadata": {
        "id": "Y8NrrMeLweiD"
      },
      "outputs": [],
      "source": [
        "sc = SparkContext(\"local\", \"Longest sequences\")\n",
        "data = [-5, 2, 32, 51, 622, 7, 43, 84, 19, 10, 11, 12, 120]\n",
        "rdd = sc.parallelize(data)"
      ]
    },
    {
      "cell_type": "code",
      "execution_count": 8,
      "metadata": {
        "id": "4fUFqzYwyLEr"
      },
      "outputs": [],
      "source": [
        "def find_sequences(nums):\n",
        "    sequences = []\n",
        "    current_sequence = []\n",
        "\n",
        "    for i in range(len(nums)):\n",
        "        if not current_sequence or nums[i] == nums[i-1] + 1:\n",
        "            current_sequence.append(nums[i])\n",
        "        else:\n",
        "            sequences.append(current_sequence)\n",
        "            current_sequence = [nums[i]]\n",
        "\n",
        "    if current_sequence:\n",
        "        sequences.append(current_sequence)\n",
        "\n",
        "    return sequences"
      ]
    },
    {
      "cell_type": "code",
      "execution_count": 18,
      "metadata": {
        "colab": {
          "base_uri": "https://localhost:8080/"
        },
        "id": "PiNPXkYByP_T",
        "outputId": "2e661f3d-7d8c-4bbe-81ce-ca9f71def6bf"
      },
      "outputs": [
        {
          "name": "stdout",
          "output_type": "stream",
          "text": [
            "Самая длинная последовательность: [10, 11, 12]\n"
          ]
        }
      ],
      "source": [
        "longest_sequence = max(rdd.mapPartitions(lambda nums: [find_sequences(list(nums))]).flatMap(lambda x: x).collect(), key=len)\n",
        "print(f\"Самая длинная последовательность: {longest_sequence}\")"
      ]
    },
    {
      "cell_type": "code",
      "execution_count": 19,
      "metadata": {
        "id": "uu9rDC6jwkme"
      },
      "outputs": [],
      "source": [
        "sc.stop()"
      ]
    }
  ],
  "metadata": {
    "colab": {
      "provenance": []
    },
    "kernelspec": {
      "display_name": "Python 3",
      "name": "python3"
    },
    "language_info": {
      "name": "python",
      "version": "3.12.0"
    }
  },
  "nbformat": 4,
  "nbformat_minor": 0
}
