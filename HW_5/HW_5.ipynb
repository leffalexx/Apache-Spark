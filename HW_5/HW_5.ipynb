{
  "nbformat": 4,
  "nbformat_minor": 0,
  "metadata": {
    "colab": {
      "provenance": []
    },
    "kernelspec": {
      "name": "python3",
      "display_name": "Python 3"
    },
    "language_info": {
      "name": "python"
    }
  },
  "cells": [
    {
      "cell_type": "code",
      "execution_count": 2,
      "metadata": {
        "id": "RRJFLS_VAbZ2"
      },
      "outputs": [],
      "source": [
        "!pip install pyspark >> None"
      ]
    },
    {
      "cell_type": "code",
      "source": [
        "from pyspark.sql import SparkSession\n",
        "import pandas as pd\n",
        "from pyspark.sql.functions import sum, desc, col"
      ],
      "metadata": {
        "id": "HzFRTFRXBAfY"
      },
      "execution_count": 25,
      "outputs": []
    },
    {
      "cell_type": "code",
      "source": [
        "spark = SparkSession.builder.appName(\"BookSales\").getOrCreate()"
      ],
      "metadata": {
        "id": "nBFUUO6ABDpI"
      },
      "execution_count": 4,
      "outputs": []
    },
    {
      "cell_type": "markdown",
      "source": [
        "— Используя Spark прочитайте данные из файла csv.\n"
      ],
      "metadata": {
        "id": "U--95vQpXPfT"
      }
    },
    {
      "cell_type": "code",
      "source": [
        "csv_url = \"https://docs.google.com/spreadsheets/d/1ERqHT7q3k0POkyqnJ5_GaM93-BVWHV3HeB7g1ub2lbE/export?format=csv\""
      ],
      "metadata": {
        "id": "oMjlNQ3mJ-hg"
      },
      "execution_count": 14,
      "outputs": []
    },
    {
      "cell_type": "code",
      "source": [
        "books_df = pd.read_csv(csv_url)\n",
        "books_df.to_csv('books.csv', index=False)"
      ],
      "metadata": {
        "id": "CUPz0s71UkPw"
      },
      "execution_count": 15,
      "outputs": []
    },
    {
      "cell_type": "code",
      "source": [
        "books_df = spark.read.csv('books.csv', header=True, inferSchema=True)"
      ],
      "metadata": {
        "id": "EkA0ZJGOVO1A"
      },
      "execution_count": 16,
      "outputs": []
    },
    {
      "cell_type": "markdown",
      "source": [
        "— Фильтруйте данные, чтобы оставить только книги, продажи которых превышают 3000 экземпляров."
      ],
      "metadata": {
        "id": "3pKuTZklXe7w"
      }
    },
    {
      "cell_type": "code",
      "source": [
        "filtered_books_df = books_df.filter(\"sales > 3000\")"
      ],
      "metadata": {
        "id": "W6hotTNQUcp4"
      },
      "execution_count": 17,
      "outputs": []
    },
    {
      "cell_type": "code",
      "source": [
        "filtered_books_df.show()"
      ],
      "metadata": {
        "colab": {
          "base_uri": "https://localhost:8080/"
        },
        "id": "6RswRxbwVXWw",
        "outputId": "6bfe1055-eba9-485c-8e9d-ddb2b4faf7eb"
      },
      "execution_count": 18,
      "outputs": [
        {
          "output_type": "stream",
          "name": "stdout",
          "text": [
            "+--------------------+-------------------+---------------+-----+----+\n",
            "|               title|             author|          genre|sales|year|\n",
            "+--------------------+-------------------+---------------+-----+----+\n",
            "|                1984|      George Orwell|Science Fiction| 5000|1949|\n",
            "|To Kill a Mocking...|         Harper Lee|Southern Gothic| 4000|1960|\n",
            "|    The Great Gatsby|F. Scott Fitzgerald|          Novel| 4500|1925|\n",
            "+--------------------+-------------------+---------------+-----+----+\n",
            "\n"
          ]
        }
      ]
    },
    {
      "cell_type": "markdown",
      "source": [
        "— Сгруппируйте данные по жанру и вычислите общий объем продаж для каждого жанра."
      ],
      "metadata": {
        "id": "vecd8yCjXkcs"
      }
    },
    {
      "cell_type": "code",
      "source": [
        "sales_by_genre = books_df.groupBy(\"genre\").sum(\"sales\")"
      ],
      "metadata": {
        "id": "rDA2TKdlVqhn"
      },
      "execution_count": 20,
      "outputs": []
    },
    {
      "cell_type": "code",
      "source": [
        "sales_by_genre = sales_by_genre.withColumnRenamed(\"sum(sales)\", \"total_sales\")"
      ],
      "metadata": {
        "id": "MrKIF4SwW9co"
      },
      "execution_count": 26,
      "outputs": []
    },
    {
      "cell_type": "code",
      "source": [
        "sales_by_genre.show()"
      ],
      "metadata": {
        "colab": {
          "base_uri": "https://localhost:8080/"
        },
        "id": "heExArxdVwWU",
        "outputId": "42fce4d3-40a0-4e40-b2f5-697734518040"
      },
      "execution_count": 27,
      "outputs": [
        {
          "output_type": "stream",
          "name": "stdout",
          "text": [
            "+---------------+-----------+\n",
            "|          genre|total_sales|\n",
            "+---------------+-----------+\n",
            "|Southern Gothic|       4000|\n",
            "|          Novel|       6500|\n",
            "|        Fantasy|       3000|\n",
            "|Science Fiction|       5000|\n",
            "+---------------+-----------+\n",
            "\n"
          ]
        }
      ]
    },
    {
      "cell_type": "markdown",
      "source": [
        "— Отсортируйте данные по общему объему продаж в порядке убывания."
      ],
      "metadata": {
        "id": "_S_wZB1TXoZP"
      }
    },
    {
      "cell_type": "code",
      "source": [
        "sorted_books_df = books_df.orderBy(desc(\"sales\"))"
      ],
      "metadata": {
        "id": "94hTuA6tWAcF"
      },
      "execution_count": 31,
      "outputs": []
    },
    {
      "cell_type": "code",
      "source": [
        "sorted_books_df.show()"
      ],
      "metadata": {
        "colab": {
          "base_uri": "https://localhost:8080/"
        },
        "id": "MVsXIfZwWPJ0",
        "outputId": "08d19421-cf4b-4712-ade9-da84ad4997bc"
      },
      "execution_count": 32,
      "outputs": [
        {
          "output_type": "stream",
          "name": "stdout",
          "text": [
            "+--------------------+-------------------+---------------+-----+----+\n",
            "|               title|             author|          genre|sales|year|\n",
            "+--------------------+-------------------+---------------+-----+----+\n",
            "|                1984|      George Orwell|Science Fiction| 5000|1949|\n",
            "|    The Great Gatsby|F. Scott Fitzgerald|          Novel| 4500|1925|\n",
            "|To Kill a Mocking...|         Harper Lee|Southern Gothic| 4000|1960|\n",
            "|The Lord of the R...|     J.R.R. Tolkien|        Fantasy| 3000|1954|\n",
            "|The Catcher in th...|      J.D. Salinger|          Novel| 2000|1951|\n",
            "+--------------------+-------------------+---------------+-----+----+\n",
            "\n"
          ]
        }
      ]
    }
  ]
}